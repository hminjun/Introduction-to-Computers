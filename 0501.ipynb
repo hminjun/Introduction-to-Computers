{
  "nbformat": 4,
  "nbformat_minor": 0,
  "metadata": {
    "colab": {
      "provenance": [],
      "authorship_tag": "ABX9TyPYNDhU93Vylipc3N/4UXS7",
      "include_colab_link": true
    },
    "kernelspec": {
      "name": "python3",
      "display_name": "Python 3"
    },
    "language_info": {
      "name": "python"
    }
  },
  "cells": [
    {
      "cell_type": "markdown",
      "metadata": {
        "id": "view-in-github",
        "colab_type": "text"
      },
      "source": [
        "<a href=\"https://colab.research.google.com/github/hminjun/Introduction-to-Computers/blob/main/0501.ipynb\" target=\"_parent\"><img src=\"https://colab.research.google.com/assets/colab-badge.svg\" alt=\"Open In Colab\"/></a>"
      ]
    },
    {
      "cell_type": "code",
      "execution_count": 1,
      "metadata": {
        "colab": {
          "base_uri": "https://localhost:8080/"
        },
        "id": "3mMul-MZgvj-",
        "outputId": "38d5c004-9d94-4334-8cad-23e0e5f1c2d2"
      },
      "outputs": [
        {
          "output_type": "stream",
          "name": "stdout",
          "text": [
            "0501\n"
          ]
        }
      ],
      "source": [
        "print(\"0501\")"
      ]
    },
    {
      "cell_type": "code",
      "source": [
        "score=int(input(\"請輸入分數\"))\n",
        "if(score>=60):\n",
        "  print(\"及格\")"
      ],
      "metadata": {
        "colab": {
          "base_uri": "https://localhost:8080/"
        },
        "id": "xDCZMY2PhOwf",
        "outputId": "9fcf1a14-c40a-40e4-ba87-750826cc970f"
      },
      "execution_count": 4,
      "outputs": [
        {
          "output_type": "stream",
          "name": "stdout",
          "text": [
            "請輸入分數70\n",
            "及格\n"
          ]
        }
      ]
    },
    {
      "cell_type": "code",
      "source": [
        "m=60\n",
        "e=70\n",
        "if(m>e):\n",
        "  print(\"數學比較高\")\n",
        "else:\n",
        "  print(\"英文比較高\")"
      ],
      "metadata": {
        "colab": {
          "base_uri": "https://localhost:8080/"
        },
        "id": "YdlwC5bihOzk",
        "outputId": "4c65be76-7a64-4124-f997-ec09c55cc9c0"
      },
      "execution_count": 7,
      "outputs": [
        {
          "output_type": "stream",
          "name": "stdout",
          "text": [
            "英文比較高\n"
          ]
        }
      ]
    },
    {
      "cell_type": "code",
      "source": [
        "a=str(input(\"請輸入密嗎\"))\n",
        "if(a==\"1234\"):\n",
        "  print(\"歡迎光臨！\")"
      ],
      "metadata": {
        "colab": {
          "base_uri": "https://localhost:8080/"
        },
        "id": "8um00up-hO2O",
        "outputId": "47319ec0-283b-46e6-82c7-e549f632acad"
      },
      "execution_count": 10,
      "outputs": [
        {
          "name": "stdout",
          "output_type": "stream",
          "text": [
            "請輸入密嗎1111\n"
          ]
        }
      ]
    },
    {
      "cell_type": "code",
      "source": [
        "rain=str(input(\"今天會下雨嗎\"))\n",
        "if(rain==\"y\" or rain==\"Y\"):\n",
        "  print(\"出門記得帶傘！\")"
      ],
      "metadata": {
        "colab": {
          "base_uri": "https://localhost:8080/"
        },
        "id": "Izj0qZV4oinD",
        "outputId": "b028b739-3b83-484f-c292-45e1ce64e6b5"
      },
      "execution_count": 12,
      "outputs": [
        {
          "name": "stdout",
          "output_type": "stream",
          "text": [
            "今天會下雨嗎l\n"
          ]
        }
      ]
    },
    {
      "cell_type": "code",
      "source": [
        "b=str(input(\"請輸入密嗎\"))\n",
        "if(b==\"1234\"):\n",
        "  print(\"歡迎光臨！\")\n",
        "else:\n",
        "  print(\"密碼錯誤！\")"
      ],
      "metadata": {
        "colab": {
          "base_uri": "https://localhost:8080/"
        },
        "id": "tgCZPszyoiqO",
        "outputId": "a625da2f-2f72-4624-f425-0dde615ad960"
      },
      "execution_count": 15,
      "outputs": [
        {
          "output_type": "stream",
          "name": "stdout",
          "text": [
            "請輸入密嗎3\n",
            "密碼錯誤！\n"
          ]
        }
      ]
    },
    {
      "cell_type": "code",
      "source": [
        "r=str(input(\"今天會下雨嗎\"))\n",
        "if(r==\"y\" or r==\"Y\"):\n",
        "  print(\"出門記得帶傘！\")\n",
        "else:\n",
        "  print(\"不用帶傘\")"
      ],
      "metadata": {
        "colab": {
          "base_uri": "https://localhost:8080/"
        },
        "id": "k0Y1S2Mzois3",
        "outputId": "b1cc8760-3844-4176-89eb-6b0f6a99f33e"
      },
      "execution_count": 16,
      "outputs": [
        {
          "output_type": "stream",
          "name": "stdout",
          "text": [
            "今天會下雨嗎˙ㄨ\n",
            "不用帶傘\n"
          ]
        }
      ]
    },
    {
      "cell_type": "code",
      "source": [
        "c=int(input(\"請輸入正整數：\"))\n",
        "d=c%2\n",
        "if(d==0):\n",
        "  print(c,\"為偶數\")\n",
        "else:\n",
        "  print(c,\"為奇數\")"
      ],
      "metadata": {
        "colab": {
          "base_uri": "https://localhost:8080/"
        },
        "id": "nu-TcR3YptLQ",
        "outputId": "a3837c6f-14a0-42a7-fde2-4189aa980d6c"
      },
      "execution_count": 20,
      "outputs": [
        {
          "output_type": "stream",
          "name": "stdout",
          "text": [
            "請輸入正整數：50\n",
            "50 為偶數\n"
          ]
        }
      ]
    }
  ]
}