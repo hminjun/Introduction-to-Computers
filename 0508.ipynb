{
  "nbformat": 4,
  "nbformat_minor": 0,
  "metadata": {
    "colab": {
      "provenance": [],
      "authorship_tag": "ABX9TyPoYd1yeyMvtY+Dbmv5mRT8",
      "include_colab_link": true
    },
    "kernelspec": {
      "name": "python3",
      "display_name": "Python 3"
    },
    "language_info": {
      "name": "python"
    }
  },
  "cells": [
    {
      "cell_type": "markdown",
      "metadata": {
        "id": "view-in-github",
        "colab_type": "text"
      },
      "source": [
        "<a href=\"https://colab.research.google.com/github/hminjun/Introduction-to-Computers/blob/main/0508.ipynb\" target=\"_parent\"><img src=\"https://colab.research.google.com/assets/colab-badge.svg\" alt=\"Open In Colab\"/></a>"
      ]
    },
    {
      "cell_type": "code",
      "execution_count": 1,
      "metadata": {
        "colab": {
          "base_uri": "https://localhost:8080/"
        },
        "id": "iEfBbbH6iewo",
        "outputId": "976e9063-3468-4bf7-bb50-bbe5e4169f38"
      },
      "outputs": [
        {
          "output_type": "stream",
          "name": "stdout",
          "text": [
            "請輸入體溫：37\n",
            "體溫略高！\n"
          ]
        }
      ],
      "source": [
        "t=float(input(\"請輸入體溫：\"))\n",
        "if(t>=37.5):\n",
        "  print(\"體溫過高！\")\n",
        "elif(t<37.5 and t>=37):\n",
        "  print(\"體溫略高！\")\n",
        "elif(t<37 and t>=34):\n",
        "  print(\"體溫正常！\")\n",
        "else:\n",
        "  print(\"體溫議程，請重新量測！\")"
      ]
    },
    {
      "cell_type": "code",
      "source": [
        "s=int(input(\"請輸入成績：\"))\n",
        "if(s>=90):\n",
        "  print(\"A\")\n",
        "elif(s<90 and s>=80):\n",
        "  print(\"B\")\n",
        "elif(s<80 and s>=70):\n",
        "  print(\"C\")\n",
        "elif(s<70 and s>=60):\n",
        "  print(\"D\")\n",
        "else:\n",
        "  print(\"E\")"
      ],
      "metadata": {
        "colab": {
          "base_uri": "https://localhost:8080/"
        },
        "id": "PAozZWwrkxo_",
        "outputId": "6de557d8-de14-4817-b711-dd0d1b210670"
      },
      "execution_count": 5,
      "outputs": [
        {
          "output_type": "stream",
          "name": "stdout",
          "text": [
            "請輸入成績：56\n",
            "E\n"
          ]
        }
      ]
    },
    {
      "cell_type": "code",
      "source": [
        "m=int(input(\"請輸入月份：\"))\n",
        "if(m==3 or m==4 or m==6):\n",
        "  print(m,\"月是春天！\")\n",
        "elif(m==6 or m==7 or m==8):\n",
        "  print(m,\"月是夏天！\")\n",
        "elif(m==9 or m==10 or m==11):\n",
        "  print(m,\"月是秋天！\")\n",
        "elif(m==12 or m==1 or m==2):\n",
        "  print(m,\"月是冬天！\")\n",
        "else:\n",
        "  print(\"月份不在範圍內！\")"
      ],
      "metadata": {
        "colab": {
          "base_uri": "https://localhost:8080/"
        },
        "id": "jKmARBJkk6R-",
        "outputId": "4c514c2b-d8f3-4a6a-e126-a95d316b82e6"
      },
      "execution_count": 9,
      "outputs": [
        {
          "output_type": "stream",
          "name": "stdout",
          "text": [
            "請輸入月份：4\n",
            "4 月是春天！\n"
          ]
        }
      ]
    }
  ]
}